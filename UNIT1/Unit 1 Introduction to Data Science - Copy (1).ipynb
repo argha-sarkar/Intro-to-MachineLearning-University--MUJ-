{
 "cells": [
  {
   "cell_type": "markdown",
   "id": "14df5a73",
   "metadata": {},
   "source": [
    "# Introduction to Python"
   ]
  },
  {
   "cell_type": "markdown",
   "id": "4835c57b",
   "metadata": {},
   "source": [
    "Declaring Variables"
   ]
  },
  {
   "cell_type": "code",
   "execution_count": 1,
   "id": "a1f515da",
   "metadata": {},
   "outputs": [],
   "source": [
    "var1 = 2\n",
    "var2 = 5.0\n",
    "var3 = True\n",
    "var4 = \" 43534534535\""
   ]
  },
  {
   "cell_type": "code",
   "execution_count": 2,
   "id": "359c74ec",
   "metadata": {},
   "outputs": [
    {
     "name": "stdout",
     "output_type": "stream",
     "text": [
      "Value of var1 : 2\n",
      "Value of var2 : 5.0\n",
      "Value of var3 : True\n",
      "Value of var4 :  43534534535\n"
     ]
    }
   ],
   "source": [
    "print(\"Value of var1 :\", var1)\n",
    "print(\"Value of var2 :\", var2)\n",
    "print(\"Value of var3 :\", var3)\n",
    "print(\"Value of var4 :\", var4)"
   ]
  },
  {
   "cell_type": "code",
   "execution_count": 3,
   "id": "e844e5b6",
   "metadata": {},
   "outputs": [
    {
     "data": {
      "text/plain": [
       "int"
      ]
     },
     "execution_count": 3,
     "metadata": {},
     "output_type": "execute_result"
    }
   ],
   "source": [
    "type( var1 )"
   ]
  },
  {
   "cell_type": "code",
   "execution_count": 4,
   "id": "5506adf4",
   "metadata": {},
   "outputs": [
    {
     "data": {
      "text/plain": [
       "float"
      ]
     },
     "execution_count": 4,
     "metadata": {},
     "output_type": "execute_result"
    }
   ],
   "source": [
    "type( var2 )"
   ]
  },
  {
   "cell_type": "code",
   "execution_count": 5,
   "id": "6e6e037c",
   "metadata": {},
   "outputs": [
    {
     "data": {
      "text/plain": [
       "bool"
      ]
     },
     "execution_count": 5,
     "metadata": {},
     "output_type": "execute_result"
    }
   ],
   "source": [
    "type(var3)"
   ]
  },
  {
   "cell_type": "code",
   "execution_count": 6,
   "id": "ecb53849",
   "metadata": {},
   "outputs": [
    {
     "data": {
      "text/plain": [
       "str"
      ]
     },
     "execution_count": 6,
     "metadata": {},
     "output_type": "execute_result"
    }
   ],
   "source": [
    "type(var4)"
   ]
  },
  {
   "cell_type": "markdown",
   "id": "1cdb5e04",
   "metadata": {},
   "source": [
    "Conditional Statements"
   ]
  },
  {
   "cell_type": "code",
   "execution_count": 7,
   "id": "592220fa",
   "metadata": {},
   "outputs": [
    {
     "name": "stdout",
     "output_type": "stream",
     "text": [
      "Bigger than 1\n"
     ]
    }
   ],
   "source": [
    "# Checking a condition if the variable value is more than 1\n",
    "if var1 > 1:\n",
    "    print( \"Bigger than 1\" )"
   ]
  },
  {
   "cell_type": "code",
   "execution_count": 8,
   "id": "4d37acdf",
   "metadata": {},
   "outputs": [
    {
     "name": "stdout",
     "output_type": "stream",
     "text": [
      "x < y\n"
     ]
    }
   ],
   "source": [
    "x = 10\n",
    "y = 12\n",
    "# if x is greater than y\n",
    "if x > y:\n",
    "    print (\"x > y\")\n",
    "# if x is lesser than y\n",
    "elif x < y:\n",
    "    print (\"x < y\")\n",
    "else:\n",
    "    print (\"x = y\")"
   ]
  },
  {
   "cell_type": "code",
   "execution_count": 9,
   "id": "74aaa560",
   "metadata": {},
   "outputs": [
    {
     "data": {
      "text/plain": [
       "False"
      ]
     },
     "execution_count": 9,
     "metadata": {},
     "output_type": "execute_result"
    }
   ],
   "source": [
    "# Initialize\n",
    "x = 5\n",
    "# Assign True if x is more than 10 or assign False using ternary operator\n",
    "isGreater = True if x > 10 else False\n",
    "isGreater"
   ]
  },
  {
   "cell_type": "code",
   "execution_count": 10,
   "id": "b1c858c7",
   "metadata": {},
   "outputs": [
    {
     "data": {
      "text/plain": [
       "range(1, 6)"
      ]
     },
     "execution_count": 10,
     "metadata": {},
     "output_type": "execute_result"
    }
   ],
   "source": [
    "# Initializing the sequence of numbers starting from 1\n",
    "# and ending (not including) with 6\n",
    "numbers = range( 1, 6 )\n",
    "numbers"
   ]
  },
  {
   "cell_type": "code",
   "execution_count": 11,
   "id": "4fc7fe94",
   "metadata": {},
   "outputs": [
    {
     "name": "stdout",
     "output_type": "stream",
     "text": [
      "1\n",
      "2\n",
      "3\n",
      "4\n",
      "5\n"
     ]
    }
   ],
   "source": [
    "# Iterate through the collection\n",
    "for i in numbers:\n",
    "    print (i)"
   ]
  },
  {
   "cell_type": "code",
   "execution_count": 12,
   "id": "4e4425c3",
   "metadata": {},
   "outputs": [
    {
     "name": "stdout",
     "output_type": "stream",
     "text": [
      "1\n",
      "2\n",
      "3\n",
      "4\n",
      "Done\n"
     ]
    }
   ],
   "source": [
    "# Initialize the value of 1\n",
    "i = 1\n",
    "# check the value of i to check if the loop will be continued or not\n",
    "while i < 5:\n",
    "    print(i)\n",
    "    # Increment the value of i.\n",
    "    i = i+1\n",
    "    # print after the value of i\n",
    "print('Done')"
   ]
  },
  {
   "cell_type": "code",
   "execution_count": 13,
   "id": "95d2f966",
   "metadata": {},
   "outputs": [],
   "source": [
    "def addElements( a, b ):\n",
    "    return a + b"
   ]
  },
  {
   "cell_type": "code",
   "execution_count": 14,
   "id": "ae75641b",
   "metadata": {},
   "outputs": [
    {
     "data": {
      "text/plain": [
       "5"
      ]
     },
     "execution_count": 14,
     "metadata": {},
     "output_type": "execute_result"
    }
   ],
   "source": [
    "result = addElements( 2, 3 )\n",
    "result"
   ]
  },
  {
   "cell_type": "code",
   "execution_count": 15,
   "id": "160e0015",
   "metadata": {},
   "outputs": [
    {
     "data": {
      "text/plain": [
       "6.8"
      ]
     },
     "execution_count": 15,
     "metadata": {},
     "output_type": "execute_result"
    }
   ],
   "source": [
    "result = addElements( 2.3, 4.5 )\n",
    "result"
   ]
  },
  {
   "cell_type": "code",
   "execution_count": 16,
   "id": "10d86684",
   "metadata": {},
   "outputs": [
    {
     "data": {
      "text/plain": [
       "'pythonworkshop'"
      ]
     },
     "execution_count": 16,
     "metadata": {},
     "output_type": "execute_result"
    }
   ],
   "source": [
    "result = addElements( \"python\", \"workshop\" )\n",
    "result"
   ]
  },
  {
   "cell_type": "markdown",
   "id": "608378b7",
   "metadata": {},
   "source": [
    "# Working with Collections"
   ]
  },
  {
   "cell_type": "markdown",
   "id": "eef810fa",
   "metadata": {},
   "source": [
    "# List"
   ]
  },
  {
   "cell_type": "code",
   "execution_count": 17,
   "id": "3c3abfed",
   "metadata": {},
   "outputs": [],
   "source": [
    "## Create an empty list\n",
    "emptyList = []"
   ]
  },
  {
   "cell_type": "code",
   "execution_count": 18,
   "id": "5a972ebd",
   "metadata": {},
   "outputs": [],
   "source": [
    "batsmen = ['Rohit', 'Dhawan', 'Kohli', 'Rahane', 'Rayudu', 'Dhoni']"
   ]
  },
  {
   "cell_type": "code",
   "execution_count": 19,
   "id": "e45ddceb",
   "metadata": {},
   "outputs": [
    {
     "data": {
      "text/plain": [
       "'Rohit'"
      ]
     },
     "execution_count": 19,
     "metadata": {},
     "output_type": "execute_result"
    }
   ],
   "source": [
    "batsmen[0]"
   ]
  },
  {
   "cell_type": "code",
   "execution_count": 20,
   "id": "d52ae9f3",
   "metadata": {},
   "outputs": [
    {
     "data": {
      "text/plain": [
       "6"
      ]
     },
     "execution_count": 20,
     "metadata": {},
     "output_type": "execute_result"
    }
   ],
   "source": [
    "# how many elements in the list\n",
    "len( batsmen )"
   ]
  },
  {
   "cell_type": "code",
   "execution_count": 21,
   "id": "1145ccb9",
   "metadata": {},
   "outputs": [],
   "source": [
    "bowlers = ['Bumrah', 'Shami', 'Bhuvi', 'Kuldeep', 'Chahal']"
   ]
  },
  {
   "cell_type": "code",
   "execution_count": 22,
   "id": "6d2cf96f",
   "metadata": {},
   "outputs": [],
   "source": [
    "all_players = batsmen + bowlers"
   ]
  },
  {
   "cell_type": "code",
   "execution_count": 23,
   "id": "567c62bf",
   "metadata": {},
   "outputs": [
    {
     "data": {
      "text/plain": [
       "['Rohit',\n",
       " 'Dhawan',\n",
       " 'Kohli',\n",
       " 'Rahane',\n",
       " 'Rayudu',\n",
       " 'Dhoni',\n",
       " 'Bumrah',\n",
       " 'Shami',\n",
       " 'Bhuvi',\n",
       " 'Kuldeep',\n",
       " 'Chahal']"
      ]
     },
     "execution_count": 23,
     "metadata": {},
     "output_type": "execute_result"
    }
   ],
   "source": [
    "all_players"
   ]
  },
  {
   "cell_type": "code",
   "execution_count": 24,
   "id": "1e301609",
   "metadata": {},
   "outputs": [
    {
     "data": {
      "text/plain": [
       "5"
      ]
     },
     "execution_count": 24,
     "metadata": {},
     "output_type": "execute_result"
    }
   ],
   "source": [
    "all_players.index( 'Dhoni' )"
   ]
  },
  {
   "cell_type": "markdown",
   "id": "507193c4",
   "metadata": {},
   "source": [
    "# Tuples: In Tuples, Values can not be changed"
   ]
  },
  {
   "cell_type": "code",
   "execution_count": 25,
   "id": "7412a4dd",
   "metadata": {},
   "outputs": [],
   "source": [
    "odiDebut = ( 'Kohli', 2008 )"
   ]
  },
  {
   "cell_type": "code",
   "execution_count": 26,
   "id": "d98f841e",
   "metadata": {},
   "outputs": [
    {
     "data": {
      "text/plain": [
       "('Kohli', 2008)"
      ]
     },
     "execution_count": 26,
     "metadata": {},
     "output_type": "execute_result"
    }
   ],
   "source": [
    "odiDebut"
   ]
  },
  {
   "cell_type": "code",
   "execution_count": 27,
   "id": "762211a2",
   "metadata": {},
   "outputs": [
    {
     "data": {
      "text/plain": [
       "'Kohli'"
      ]
     },
     "execution_count": 27,
     "metadata": {},
     "output_type": "execute_result"
    }
   ],
   "source": [
    "odiDebut[0]"
   ]
  },
  {
   "cell_type": "code",
   "execution_count": 28,
   "id": "989c77a6",
   "metadata": {},
   "outputs": [
    {
     "name": "stdout",
     "output_type": "stream",
     "text": [
      "('apple', 'banana', 'cherry')\n"
     ]
    }
   ],
   "source": [
    "thistuple = (\"apple\", \"banana\", \"cherry\")\n",
    "print(thistuple)"
   ]
  },
  {
   "cell_type": "code",
   "execution_count": 29,
   "id": "3f607f28",
   "metadata": {},
   "outputs": [],
   "source": [
    "players = tuple( all_players )"
   ]
  },
  {
   "cell_type": "code",
   "execution_count": 30,
   "id": "c4b05a45",
   "metadata": {},
   "outputs": [
    {
     "data": {
      "text/plain": [
       "'Dhawan'"
      ]
     },
     "execution_count": 30,
     "metadata": {},
     "output_type": "execute_result"
    }
   ],
   "source": [
    "players[1]"
   ]
  },
  {
   "cell_type": "code",
   "execution_count": 31,
   "id": "cac518c1",
   "metadata": {},
   "outputs": [
    {
     "ename": "TypeError",
     "evalue": "'tuple' object does not support item assignment",
     "output_type": "error",
     "traceback": [
      "\u001b[31m---------------------------------------------------------------------------\u001b[39m",
      "\u001b[31mTypeError\u001b[39m                                 Traceback (most recent call last)",
      "\u001b[36mCell\u001b[39m\u001b[36m \u001b[39m\u001b[32mIn[31]\u001b[39m\u001b[32m, line 1\u001b[39m\n\u001b[32m----> \u001b[39m\u001b[32m1\u001b[39m \u001b[43mplayers\u001b[49m\u001b[43m[\u001b[49m\u001b[32;43m1\u001b[39;49m\u001b[43m]\u001b[49m = \u001b[33m\"\u001b[39m\u001b[33mDavid\u001b[39m\u001b[33m\"\u001b[39m\n",
      "\u001b[31mTypeError\u001b[39m: 'tuple' object does not support item assignment"
     ]
    }
   ],
   "source": [
    "players[1] = \"David\""
   ]
  },
  {
   "cell_type": "markdown",
   "id": "06b3d9ec",
   "metadata": {},
   "source": [
    "# Dictionary"
   ]
  },
  {
   "cell_type": "code",
   "execution_count": null,
   "id": "f81039a2",
   "metadata": {},
   "outputs": [],
   "source": [
    "wcWinners = { 1975: \"West Indies\",\n",
    "1979: \"West Indies\",\n",
    "1983: \"India\",\n",
    "1987: \"Australia\",\n",
    "1991: \"Pakistan\",\n",
    "1996: \"Srilanka\",\n",
    "1999: \"Australia\",\n",
    "2003: \"Australia\",\n",
    "2007: \"Australia\",\n",
    "2011: \"India\"}"
   ]
  },
  {
   "cell_type": "code",
   "execution_count": null,
   "id": "5b1544a6",
   "metadata": {},
   "outputs": [
    {
     "data": {
      "text/plain": [
       "'India'"
      ]
     },
     "execution_count": 33,
     "metadata": {},
     "output_type": "execute_result"
    }
   ],
   "source": [
    "wcWinners[1983]"
   ]
  },
  {
   "cell_type": "markdown",
   "id": "5eaf3a3b",
   "metadata": {},
   "source": [
    "# Dealing with Strings"
   ]
  },
  {
   "cell_type": "code",
   "execution_count": null,
   "id": "6ef11b3d",
   "metadata": {},
   "outputs": [],
   "source": [
    "string0 = 'python'\n",
    "string1 = \"machine learning\""
   ]
  },
  {
   "cell_type": "code",
   "execution_count": null,
   "id": "f6807b7d",
   "metadata": {},
   "outputs": [
    {
     "data": {
      "text/plain": [
       "'PYTHON'"
      ]
     },
     "execution_count": 35,
     "metadata": {},
     "output_type": "execute_result"
    }
   ],
   "source": [
    "# Converting to upper case\n",
    "string0.upper()"
   ]
  },
  {
   "cell_type": "code",
   "execution_count": null,
   "id": "fd2e3eea",
   "metadata": {},
   "outputs": [
    {
     "data": {
      "text/plain": [
       "'python'"
      ]
     },
     "execution_count": 36,
     "metadata": {},
     "output_type": "execute_result"
    }
   ],
   "source": [
    "string0"
   ]
  },
  {
   "cell_type": "code",
   "execution_count": null,
   "id": "322240fa",
   "metadata": {},
   "outputs": [
    {
     "data": {
      "text/plain": [
       "'python'"
      ]
     },
     "execution_count": 37,
     "metadata": {},
     "output_type": "execute_result"
    }
   ],
   "source": [
    "# Similarly string.lower() can be used to convert to lower case.\n",
    "string0.lower()"
   ]
  },
  {
   "cell_type": "code",
   "execution_count": null,
   "id": "a6773468",
   "metadata": {},
   "outputs": [
    {
     "data": {
      "text/plain": [
       "'python'"
      ]
     },
     "execution_count": 38,
     "metadata": {},
     "output_type": "execute_result"
    }
   ],
   "source": [
    "string0"
   ]
  },
  {
   "cell_type": "code",
   "execution_count": null,
   "id": "e894bb71",
   "metadata": {},
   "outputs": [],
   "source": []
  },
  {
   "cell_type": "code",
   "execution_count": null,
   "id": "b27695eb",
   "metadata": {},
   "outputs": [],
   "source": []
  }
 ],
 "metadata": {
  "kernelspec": {
   "display_name": "Python 3",
   "language": "python",
   "name": "python3"
  },
  "language_info": {
   "codemirror_mode": {
    "name": "ipython",
    "version": 3
   },
   "file_extension": ".py",
   "mimetype": "text/x-python",
   "name": "python",
   "nbconvert_exporter": "python",
   "pygments_lexer": "ipython3",
   "version": "3.13.5"
  }
 },
 "nbformat": 4,
 "nbformat_minor": 5
}
